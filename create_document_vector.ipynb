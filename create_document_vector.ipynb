{
 "cells": [
  {
   "cell_type": "code",
   "execution_count": 12,
   "metadata": {},
   "outputs": [
    {
     "name": "stdout",
     "output_type": "stream",
     "text": [
      "/Users/dcook1/Desktop/Library/Extractive-QA/wikipedia_docs\n",
      "52\n"
     ]
    }
   ],
   "source": [
    "import os\n",
    "import pickle\n",
    "from dotenv import load_dotenv\n",
    "from sklearn.feature_extraction.text import TfidfVectorizer\n",
    "\n",
    "load_dotenv()\n",
    "\n",
    "vectorizer = TfidfVectorizer(stop_words='english')\n",
    "\n",
    "# load docs\n",
    "# documents_filepath = os.environ['PATH_TO_CLEAN_DOCS']\n",
    "documents_filepath = '/Users/dcook1/Desktop/Library/Extractive-QA/wikipedia_docs'\n",
    "print(documents_filepath)\n",
    "markdown_files = [f for f in os.listdir(documents_filepath) if f.endswith('.md')]\n",
    "print(len(markdown_files))\n",
    "\n",
    "# add docs to main list\n",
    "documents = []\n",
    "for filename in markdown_files:\n",
    "    filepath = os.path.join(documents_filepath, filename)\n",
    "    \n",
    "    with open(filepath, 'r', encoding='utf-8') as file:\n",
    "        content = file.read()\n",
    "\n",
    "    documents.append(content)\n",
    "\n",
    "# vectorize documents\n",
    "tfidf_matrix = vectorizer.fit_transform(documents)\n",
    "\n",
    "# save the vectorizer and the vectorized documents\n",
    "with open(\"vectorizer.pkl\", \"wb\") as f:\n",
    "    pickle.dump(vectorizer, f)\n",
    "\n",
    "with open(\"tfidf_matrix.pkl\", \"wb\") as f:\n",
    "    pickle.dump(tfidf_matrix, f)"
   ]
  }
 ],
 "metadata": {
  "kernelspec": {
   "display_name": "venv",
   "language": "python",
   "name": "python3"
  },
  "language_info": {
   "codemirror_mode": {
    "name": "ipython",
    "version": 3
   },
   "file_extension": ".py",
   "mimetype": "text/x-python",
   "name": "python",
   "nbconvert_exporter": "python",
   "pygments_lexer": "ipython3",
   "version": "3.10.12"
  },
  "orig_nbformat": 4
 },
 "nbformat": 4,
 "nbformat_minor": 2
}
